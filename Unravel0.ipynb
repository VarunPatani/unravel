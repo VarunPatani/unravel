{
  "cells": [
    {
      "cell_type": "code",
      "execution_count": 53,
      "metadata": {
        "id": "_2Ut2_v3xoUZ"
      },
      "outputs": [],
      "source": [
        "import pandas as pd\n",
        "import json"
      ]
    },
    {
      "cell_type": "code",
      "execution_count": 108,
      "metadata": {
        "id": "Z5pKBB3BwN_V"
      },
      "outputs": [],
      "source": [
        "order_data = pd.read_csv(\"Datasets/order_data.csv\")\n",
        "customer_data = pd.read_csv(\"Datasets/customer_data.csv\")\n",
        "store_data = pd.read_csv(\"Datasets/store_data.csv\")\n",
        "test_data_question = pd.read_csv(\"Datasets/test_data_question.csv\")"
      ]
    },
    {
      "cell_type": "markdown",
      "metadata": {},
      "source": [
        "# ORDER DATA "
      ]
    },
    {
      "cell_type": "code",
      "execution_count": 55,
      "metadata": {
        "colab": {
          "base_uri": "https://localhost:8080/",
          "height": 363
        },
        "id": "bR8d0jojy_Rb",
        "outputId": "f47c1d2a-8306-494e-a07a-9a921b629337"
      },
      "outputs": [
        {
          "data": {
            "text/html": [
              "<div>\n",
              "<style scoped>\n",
              "    .dataframe tbody tr th:only-of-type {\n",
              "        vertical-align: middle;\n",
              "    }\n",
              "\n",
              "    .dataframe tbody tr th {\n",
              "        vertical-align: top;\n",
              "    }\n",
              "\n",
              "    .dataframe thead th {\n",
              "        text-align: right;\n",
              "    }\n",
              "</style>\n",
              "<table border=\"1\" class=\"dataframe\">\n",
              "  <thead>\n",
              "    <tr style=\"text-align: right;\">\n",
              "      <th></th>\n",
              "      <th>CUSTOMER_ID</th>\n",
              "      <th>STORE_NUMBER</th>\n",
              "      <th>ORDER_CREATED_DATE</th>\n",
              "      <th>ORDER_ID</th>\n",
              "      <th>ORDERS</th>\n",
              "      <th>ORDER_CHANNEL_NAME</th>\n",
              "      <th>ORDER_SUBCHANNEL_NAME</th>\n",
              "      <th>ORDER_OCCASION_NAME</th>\n",
              "    </tr>\n",
              "  </thead>\n",
              "  <tbody>\n",
              "    <tr>\n",
              "      <th>0</th>\n",
              "      <td>362204699</td>\n",
              "      <td>2156</td>\n",
              "      <td>2024-07-24</td>\n",
              "      <td>7247194287</td>\n",
              "      <td>{\"orders\": [{\"item_details\": [{\"item_name\": \"O...</td>\n",
              "      <td>Digital</td>\n",
              "      <td>WWT</td>\n",
              "      <td>ToGo</td>\n",
              "    </tr>\n",
              "    <tr>\n",
              "      <th>1</th>\n",
              "      <td>269612955</td>\n",
              "      <td>1419</td>\n",
              "      <td>2025-02-15</td>\n",
              "      <td>791214421</td>\n",
              "      <td>{\"orders\": [{\"item_details\": [{\"item_name\": \"R...</td>\n",
              "      <td>Digital</td>\n",
              "      <td>WWT</td>\n",
              "      <td>ToGo</td>\n",
              "    </tr>\n",
              "    <tr>\n",
              "      <th>2</th>\n",
              "      <td>585330633</td>\n",
              "      <td>2249</td>\n",
              "      <td>2025-02-15</td>\n",
              "      <td>7575285208</td>\n",
              "      <td>{\"orders\": [{\"item_details\": [{\"item_name\": \"2...</td>\n",
              "      <td>Digital</td>\n",
              "      <td>WWT</td>\n",
              "      <td>ToGo</td>\n",
              "    </tr>\n",
              "    <tr>\n",
              "      <th>3</th>\n",
              "      <td>950661333</td>\n",
              "      <td>2513</td>\n",
              "      <td>2024-03-29</td>\n",
              "      <td>4253875716</td>\n",
              "      <td>{\"orders\": [{\"item_details\": [{\"item_name\": \"O...</td>\n",
              "      <td>Digital</td>\n",
              "      <td>WWT</td>\n",
              "      <td>ToGo</td>\n",
              "    </tr>\n",
              "    <tr>\n",
              "      <th>4</th>\n",
              "      <td>434985772</td>\n",
              "      <td>1754</td>\n",
              "      <td>2024-04-08</td>\n",
              "      <td>7150407872</td>\n",
              "      <td>{\"orders\": [{\"item_details\": [{\"item_name\": \"O...</td>\n",
              "      <td>Digital</td>\n",
              "      <td>WWT</td>\n",
              "      <td>ToGo</td>\n",
              "    </tr>\n",
              "    <tr>\n",
              "      <th>5</th>\n",
              "      <td>126084616</td>\n",
              "      <td>949</td>\n",
              "      <td>2025-02-15</td>\n",
              "      <td>3060989630</td>\n",
              "      <td>{\"orders\": [{\"item_details\": [{\"item_name\": \"O...</td>\n",
              "      <td>Digital</td>\n",
              "      <td>WWT</td>\n",
              "      <td>ToGo</td>\n",
              "    </tr>\n",
              "    <tr>\n",
              "      <th>6</th>\n",
              "      <td>426992703</td>\n",
              "      <td>2156</td>\n",
              "      <td>2025-02-15</td>\n",
              "      <td>1655782790</td>\n",
              "      <td>{\"orders\": [{\"item_details\": [{\"item_name\": \"1...</td>\n",
              "      <td>Digital</td>\n",
              "      <td>WWT</td>\n",
              "      <td>ToGo</td>\n",
              "    </tr>\n",
              "    <tr>\n",
              "      <th>7</th>\n",
              "      <td>772568272</td>\n",
              "      <td>820</td>\n",
              "      <td>2025-02-15</td>\n",
              "      <td>4015163280</td>\n",
              "      <td>{\"orders\": [{\"item_details\": [{\"item_name\": \"O...</td>\n",
              "      <td>Digital</td>\n",
              "      <td>WWT</td>\n",
              "      <td>Delivery</td>\n",
              "    </tr>\n",
              "    <tr>\n",
              "      <th>8</th>\n",
              "      <td>715522716</td>\n",
              "      <td>1161</td>\n",
              "      <td>2024-06-08</td>\n",
              "      <td>3057756219</td>\n",
              "      <td>{\"orders\": [{\"item_details\": [{\"item_name\": \"F...</td>\n",
              "      <td>Digital</td>\n",
              "      <td>WWT</td>\n",
              "      <td>ToGo</td>\n",
              "    </tr>\n",
              "    <tr>\n",
              "      <th>9</th>\n",
              "      <td>591908874</td>\n",
              "      <td>820</td>\n",
              "      <td>2025-02-15</td>\n",
              "      <td>4349588916</td>\n",
              "      <td>{\"orders\": [{\"item_details\": [{\"item_name\": \"R...</td>\n",
              "      <td>Digital</td>\n",
              "      <td>WWT</td>\n",
              "      <td>ToGo</td>\n",
              "    </tr>\n",
              "  </tbody>\n",
              "</table>\n",
              "</div>"
            ],
            "text/plain": [
              "   CUSTOMER_ID  STORE_NUMBER ORDER_CREATED_DATE    ORDER_ID  \\\n",
              "0    362204699          2156         2024-07-24  7247194287   \n",
              "1    269612955          1419         2025-02-15   791214421   \n",
              "2    585330633          2249         2025-02-15  7575285208   \n",
              "3    950661333          2513         2024-03-29  4253875716   \n",
              "4    434985772          1754         2024-04-08  7150407872   \n",
              "5    126084616           949         2025-02-15  3060989630   \n",
              "6    426992703          2156         2025-02-15  1655782790   \n",
              "7    772568272           820         2025-02-15  4015163280   \n",
              "8    715522716          1161         2024-06-08  3057756219   \n",
              "9    591908874           820         2025-02-15  4349588916   \n",
              "\n",
              "                                              ORDERS ORDER_CHANNEL_NAME  \\\n",
              "0  {\"orders\": [{\"item_details\": [{\"item_name\": \"O...            Digital   \n",
              "1  {\"orders\": [{\"item_details\": [{\"item_name\": \"R...            Digital   \n",
              "2  {\"orders\": [{\"item_details\": [{\"item_name\": \"2...            Digital   \n",
              "3  {\"orders\": [{\"item_details\": [{\"item_name\": \"O...            Digital   \n",
              "4  {\"orders\": [{\"item_details\": [{\"item_name\": \"O...            Digital   \n",
              "5  {\"orders\": [{\"item_details\": [{\"item_name\": \"O...            Digital   \n",
              "6  {\"orders\": [{\"item_details\": [{\"item_name\": \"1...            Digital   \n",
              "7  {\"orders\": [{\"item_details\": [{\"item_name\": \"O...            Digital   \n",
              "8  {\"orders\": [{\"item_details\": [{\"item_name\": \"F...            Digital   \n",
              "9  {\"orders\": [{\"item_details\": [{\"item_name\": \"R...            Digital   \n",
              "\n",
              "  ORDER_SUBCHANNEL_NAME ORDER_OCCASION_NAME  \n",
              "0                   WWT                ToGo  \n",
              "1                   WWT                ToGo  \n",
              "2                   WWT                ToGo  \n",
              "3                   WWT                ToGo  \n",
              "4                   WWT                ToGo  \n",
              "5                   WWT                ToGo  \n",
              "6                   WWT                ToGo  \n",
              "7                   WWT            Delivery  \n",
              "8                   WWT                ToGo  \n",
              "9                   WWT                ToGo  "
            ]
          },
          "execution_count": 55,
          "metadata": {},
          "output_type": "execute_result"
        }
      ],
      "source": [
        "order_data.head(10)"
      ]
    },
    {
      "cell_type": "code",
      "execution_count": 56,
      "metadata": {},
      "outputs": [
        {
          "name": "stdout",
          "output_type": "stream",
          "text": [
            "order_data shape: (1414410, 8)\n"
          ]
        }
      ],
      "source": [
        "print(f\"order_data shape: {order_data.shape}\")"
      ]
    },
    {
      "cell_type": "code",
      "execution_count": 57,
      "metadata": {},
      "outputs": [
        {
          "name": "stdout",
          "output_type": "stream",
          "text": [
            "<class 'pandas.core.frame.DataFrame'>\n",
            "RangeIndex: 1414410 entries, 0 to 1414409\n",
            "Data columns (total 8 columns):\n",
            " #   Column                 Non-Null Count    Dtype \n",
            "---  ------                 --------------    ----- \n",
            " 0   CUSTOMER_ID            1414410 non-null  int64 \n",
            " 1   STORE_NUMBER           1414410 non-null  int64 \n",
            " 2   ORDER_CREATED_DATE     1414410 non-null  object\n",
            " 3   ORDER_ID               1414410 non-null  int64 \n",
            " 4   ORDERS                 1414410 non-null  object\n",
            " 5   ORDER_CHANNEL_NAME     1414410 non-null  object\n",
            " 6   ORDER_SUBCHANNEL_NAME  1414410 non-null  object\n",
            " 7   ORDER_OCCASION_NAME    1414410 non-null  object\n",
            "dtypes: int64(3), object(5)\n",
            "memory usage: 86.3+ MB\n",
            "None\n"
          ]
        }
      ],
      "source": [
        "print(order_data.info())"
      ]
    },
    {
      "cell_type": "code",
      "execution_count": 58,
      "metadata": {},
      "outputs": [
        {
          "name": "stdout",
          "output_type": "stream",
          "text": [
            "CUSTOMER_ID              0\n",
            "STORE_NUMBER             0\n",
            "ORDER_CREATED_DATE       0\n",
            "ORDER_ID                 0\n",
            "ORDERS                   0\n",
            "ORDER_CHANNEL_NAME       0\n",
            "ORDER_SUBCHANNEL_NAME    0\n",
            "ORDER_OCCASION_NAME      0\n",
            "dtype: int64\n"
          ]
        }
      ],
      "source": [
        "print(order_data.isnull().sum())"
      ]
    },
    {
      "cell_type": "code",
      "execution_count": 59,
      "metadata": {},
      "outputs": [
        {
          "name": "stdout",
          "output_type": "stream",
          "text": [
            "0\n"
          ]
        }
      ],
      "source": [
        "print(order_data.isnull().sum().sum())"
      ]
    },
    {
      "cell_type": "code",
      "execution_count": 60,
      "metadata": {},
      "outputs": [
        {
          "name": "stdout",
          "output_type": "stream",
          "text": [
            "0\n"
          ]
        }
      ],
      "source": [
        "print(order_data.duplicated().sum())"
      ]
    },
    {
      "cell_type": "code",
      "execution_count": 61,
      "metadata": {},
      "outputs": [
        {
          "name": "stdout",
          "output_type": "stream",
          "text": [
            "CUSTOMER_ID               563346\n",
            "STORE_NUMBER                  38\n",
            "ORDER_CREATED_DATE           446\n",
            "ORDER_ID                 1414410\n",
            "ORDERS                    735527\n",
            "ORDER_CHANNEL_NAME             1\n",
            "ORDER_SUBCHANNEL_NAME          2\n",
            "ORDER_OCCASION_NAME            2\n",
            "dtype: int64\n"
          ]
        }
      ],
      "source": [
        "print(order_data.nunique())"
      ]
    },
    {
      "cell_type": "code",
      "execution_count": 62,
      "metadata": {},
      "outputs": [],
      "source": [
        "def clean_orders_column(order_json_string: str) -> str:\n",
        "    filter_keywords = (\"Order Memo\", \"Order Blankline\")\n",
        "    try:\n",
        "        order_data = json.loads(order_json_string)\n",
        "        original_items = order_data.get(\"orders\", [{}])[0].get(\"item_details\", [])\n",
        "        filtered_items = [\n",
        "            item\n",
        "            for item in original_items\n",
        "            if not item.get(\"item_name\", \"\").startswith(filter_keywords)\n",
        "        ]\n",
        "        cleaned_order_data = {\"orders\": [{\"item_details\": filtered_items}]}\n",
        "        return json.dumps(cleaned_order_data)\n",
        "\n",
        "    except (json.JSONDecodeError, IndexError, AttributeError) as e:\n",
        "        print(\n",
        "            f\"Could not process row due to error: {e}. Value: {order_json_string[:100]}\"\n",
        "        )\n",
        "        return json.dumps({\"orders\": [{\"item_details\": []}]})\n",
        "\n",
        "\n",
        "order_data_cleaned = order_data.copy()\n",
        "order_data_cleaned[\"ORDERS\"] = order_data_cleaned[\"ORDERS\"].apply(clean_orders_column)\n"
      ]
    },
    {
      "cell_type": "code",
      "execution_count": 63,
      "metadata": {},
      "outputs": [
        {
          "data": {
            "text/plain": [
              "'{\"orders\": [{\"item_details\": [{\"item_name\": \"Order Memo Item\", \"item_price\": 0, \"item_quantity\": 5}, {\"item_name\": \"Order Memo Paid\", \"item_price\": 0, \"item_quantity\": 1}, {\"item_name\": \"20 pc Grilled Wings\", \"item_price\": 26.59, \"item_quantity\": 1}, {\"item_name\": \"Order Memo ASAP\", \"item_price\": 0, \"item_quantity\": 2}, {\"item_name\": \"Ranch Dip - Regular\", \"item_price\": 1.49, \"item_quantity\": 1}, {\"item_name\": \"Order Blankline 2\", \"item_price\": 0, \"item_quantity\": 1}, {\"item_name\": \"Order Blankline 1\", \"item_price\": 0, \"item_quantity\": 1}]}]}'"
            ]
          },
          "execution_count": 63,
          "metadata": {},
          "output_type": "execute_result"
        }
      ],
      "source": [
        "order_data[\"ORDERS\"][3]"
      ]
    },
    {
      "cell_type": "code",
      "execution_count": 64,
      "metadata": {},
      "outputs": [
        {
          "data": {
            "text/plain": [
              "'{\"orders\": [{\"item_details\": [{\"item_name\": \"20 pc Grilled Wings\", \"item_price\": 26.59, \"item_quantity\": 1}, {\"item_name\": \"Ranch Dip - Regular\", \"item_price\": 1.49, \"item_quantity\": 1}]}]}'"
            ]
          },
          "execution_count": 64,
          "metadata": {},
          "output_type": "execute_result"
        }
      ],
      "source": [
        "order_data_cleaned[\"ORDERS\"][3]"
      ]
    },
    {
      "cell_type": "code",
      "execution_count": 90,
      "metadata": {},
      "outputs": [],
      "source": [
        "order_data_cleaned.to_csv(\"Datasets/order_data_cleaned.csv\", index=False)"
      ]
    },
    {
      "cell_type": "code",
      "execution_count": 91,
      "metadata": {},
      "outputs": [],
      "source": [
        "# always clean up resources to avoid over memory consumption (NOT EVERY ONE HAS 64 GB RAM :D)\n",
        "del order_data_cleaned"
      ]
    },
    {
      "cell_type": "markdown",
      "metadata": {},
      "source": [
        "# CUSTOMER DATA"
      ]
    },
    {
      "cell_type": "code",
      "execution_count": 109,
      "metadata": {
        "colab": {
          "base_uri": "https://localhost:8080/",
          "height": 363
        },
        "id": "vq78tk3qzBiJ",
        "outputId": "2e79dce3-dd3c-452e-ad8d-a3428747eae5"
      },
      "outputs": [
        {
          "data": {
            "text/html": [
              "<div>\n",
              "<style scoped>\n",
              "    .dataframe tbody tr th:only-of-type {\n",
              "        vertical-align: middle;\n",
              "    }\n",
              "\n",
              "    .dataframe tbody tr th {\n",
              "        vertical-align: top;\n",
              "    }\n",
              "\n",
              "    .dataframe thead th {\n",
              "        text-align: right;\n",
              "    }\n",
              "</style>\n",
              "<table border=\"1\" class=\"dataframe\">\n",
              "  <thead>\n",
              "    <tr style=\"text-align: right;\">\n",
              "      <th></th>\n",
              "      <th>CUSTOMER_ID</th>\n",
              "      <th>CUSTOMER_TYPE</th>\n",
              "    </tr>\n",
              "  </thead>\n",
              "  <tbody>\n",
              "    <tr>\n",
              "      <th>0</th>\n",
              "      <td>362204699</td>\n",
              "      <td>Registered</td>\n",
              "    </tr>\n",
              "    <tr>\n",
              "      <th>1</th>\n",
              "      <td>269612955</td>\n",
              "      <td>Registered</td>\n",
              "    </tr>\n",
              "    <tr>\n",
              "      <th>2</th>\n",
              "      <td>585330633</td>\n",
              "      <td>Guest</td>\n",
              "    </tr>\n",
              "    <tr>\n",
              "      <th>3</th>\n",
              "      <td>950661333</td>\n",
              "      <td>Registered</td>\n",
              "    </tr>\n",
              "    <tr>\n",
              "      <th>4</th>\n",
              "      <td>434985772</td>\n",
              "      <td>Guest</td>\n",
              "    </tr>\n",
              "    <tr>\n",
              "      <th>5</th>\n",
              "      <td>126084616</td>\n",
              "      <td>Registered</td>\n",
              "    </tr>\n",
              "    <tr>\n",
              "      <th>6</th>\n",
              "      <td>426992703</td>\n",
              "      <td>Guest</td>\n",
              "    </tr>\n",
              "    <tr>\n",
              "      <th>7</th>\n",
              "      <td>772568272</td>\n",
              "      <td>Registered</td>\n",
              "    </tr>\n",
              "    <tr>\n",
              "      <th>8</th>\n",
              "      <td>715522716</td>\n",
              "      <td>Guest</td>\n",
              "    </tr>\n",
              "    <tr>\n",
              "      <th>9</th>\n",
              "      <td>591908874</td>\n",
              "      <td>Registered</td>\n",
              "    </tr>\n",
              "  </tbody>\n",
              "</table>\n",
              "</div>"
            ],
            "text/plain": [
              "   CUSTOMER_ID CUSTOMER_TYPE\n",
              "0    362204699    Registered\n",
              "1    269612955    Registered\n",
              "2    585330633         Guest\n",
              "3    950661333    Registered\n",
              "4    434985772         Guest\n",
              "5    126084616    Registered\n",
              "6    426992703         Guest\n",
              "7    772568272    Registered\n",
              "8    715522716         Guest\n",
              "9    591908874    Registered"
            ]
          },
          "execution_count": 109,
          "metadata": {},
          "output_type": "execute_result"
        }
      ],
      "source": [
        "customer_data.head(10)"
      ]
    },
    {
      "cell_type": "code",
      "execution_count": 110,
      "metadata": {},
      "outputs": [
        {
          "name": "stdout",
          "output_type": "stream",
          "text": [
            "customer_data shape: (563346, 2)\n"
          ]
        }
      ],
      "source": [
        "print(f\"customer_data shape: {customer_data.shape}\")"
      ]
    },
    {
      "cell_type": "code",
      "execution_count": 111,
      "metadata": {},
      "outputs": [
        {
          "name": "stdout",
          "output_type": "stream",
          "text": [
            "<class 'pandas.core.frame.DataFrame'>\n",
            "RangeIndex: 563346 entries, 0 to 563345\n",
            "Data columns (total 2 columns):\n",
            " #   Column         Non-Null Count   Dtype \n",
            "---  ------         --------------   ----- \n",
            " 0   CUSTOMER_ID    563346 non-null  int64 \n",
            " 1   CUSTOMER_TYPE  563319 non-null  object\n",
            "dtypes: int64(1), object(1)\n",
            "memory usage: 8.6+ MB\n",
            "None\n"
          ]
        }
      ],
      "source": [
        "print(customer_data.info())"
      ]
    },
    {
      "cell_type": "code",
      "execution_count": 112,
      "metadata": {},
      "outputs": [
        {
          "name": "stdout",
          "output_type": "stream",
          "text": [
            "CUSTOMER_ID       0\n",
            "CUSTOMER_TYPE    27\n",
            "dtype: int64\n"
          ]
        }
      ],
      "source": [
        "print(customer_data.isnull().sum())"
      ]
    },
    {
      "cell_type": "code",
      "execution_count": 113,
      "metadata": {},
      "outputs": [
        {
          "name": "stdout",
          "output_type": "stream",
          "text": [
            "Missing values in customer data :27\n"
          ]
        }
      ],
      "source": [
        "print(f\"Missing values in customer data :{customer_data.isnull().sum().sum()}\")"
      ]
    },
    {
      "cell_type": "code",
      "execution_count": 114,
      "metadata": {},
      "outputs": [
        {
          "name": "stdout",
          "output_type": "stream",
          "text": [
            "0\n"
          ]
        }
      ],
      "source": [
        "print(customer_data.duplicated().sum())"
      ]
    },
    {
      "cell_type": "code",
      "execution_count": 115,
      "metadata": {},
      "outputs": [
        {
          "name": "stdout",
          "output_type": "stream",
          "text": [
            "CUSTOMER_ID      563346\n",
            "CUSTOMER_TYPE         5\n",
            "dtype: int64\n"
          ]
        }
      ],
      "source": [
        "print(customer_data.nunique())"
      ]
    },
    {
      "cell_type": "code",
      "execution_count": 116,
      "metadata": {},
      "outputs": [],
      "source": [
        "customer_data_cleaned = customer_data.copy()\n",
        "customer_data_cleaned.fillna({\"CUSTOMER_TYPE\": \"Guest\"}, inplace=True)\n",
        "customer_data_cleaned.to_csv(\"Datasets/customer_data_cleaned.csv\", index=False)"
      ]
    },
    {
      "cell_type": "code",
      "execution_count": 119,
      "metadata": {},
      "outputs": [
        {
          "name": "stdout",
          "output_type": "stream",
          "text": [
            "0\n"
          ]
        }
      ],
      "source": [
        "print(customer_data_cleaned[\"CUSTOMER_TYPE\"].isnull().sum())\n",
        "del customer_data_cleaned"
      ]
    },
    {
      "cell_type": "markdown",
      "metadata": {},
      "source": [
        "# STORE DATA"
      ]
    },
    {
      "cell_type": "code",
      "execution_count": 73,
      "metadata": {},
      "outputs": [
        {
          "data": {
            "text/html": [
              "<div>\n",
              "<style scoped>\n",
              "    .dataframe tbody tr th:only-of-type {\n",
              "        vertical-align: middle;\n",
              "    }\n",
              "\n",
              "    .dataframe tbody tr th {\n",
              "        vertical-align: top;\n",
              "    }\n",
              "\n",
              "    .dataframe thead th {\n",
              "        text-align: right;\n",
              "    }\n",
              "</style>\n",
              "<table border=\"1\" class=\"dataframe\">\n",
              "  <thead>\n",
              "    <tr style=\"text-align: right;\">\n",
              "      <th></th>\n",
              "      <th>STORE_NUMBER</th>\n",
              "      <th>CITY</th>\n",
              "      <th>STATE</th>\n",
              "      <th>POSTAL_CODE</th>\n",
              "    </tr>\n",
              "  </thead>\n",
              "  <tbody>\n",
              "    <tr>\n",
              "      <th>0</th>\n",
              "      <td>2156</td>\n",
              "      <td>GRAPEVINE</td>\n",
              "      <td>TX</td>\n",
              "      <td>76051</td>\n",
              "    </tr>\n",
              "    <tr>\n",
              "      <th>1</th>\n",
              "      <td>1419</td>\n",
              "      <td>HUNTERSVILLE</td>\n",
              "      <td>NC</td>\n",
              "      <td>28078</td>\n",
              "    </tr>\n",
              "    <tr>\n",
              "      <th>2</th>\n",
              "      <td>2249</td>\n",
              "      <td>NaN</td>\n",
              "      <td>NaN</td>\n",
              "      <td>32792</td>\n",
              "    </tr>\n",
              "    <tr>\n",
              "      <th>3</th>\n",
              "      <td>2513</td>\n",
              "      <td>LAS VEGAS</td>\n",
              "      <td>NV</td>\n",
              "      <td>89129</td>\n",
              "    </tr>\n",
              "    <tr>\n",
              "      <th>4</th>\n",
              "      <td>1754</td>\n",
              "      <td>ARDMORE</td>\n",
              "      <td>OK</td>\n",
              "      <td>73401</td>\n",
              "    </tr>\n",
              "    <tr>\n",
              "      <th>5</th>\n",
              "      <td>949</td>\n",
              "      <td>NaN</td>\n",
              "      <td>NaN</td>\n",
              "      <td>93033</td>\n",
              "    </tr>\n",
              "    <tr>\n",
              "      <th>6</th>\n",
              "      <td>820</td>\n",
              "      <td>NaN</td>\n",
              "      <td>NaN</td>\n",
              "      <td>37203</td>\n",
              "    </tr>\n",
              "    <tr>\n",
              "      <th>7</th>\n",
              "      <td>1161</td>\n",
              "      <td>NaN</td>\n",
              "      <td>NaN</td>\n",
              "      <td>78723-2429</td>\n",
              "    </tr>\n",
              "    <tr>\n",
              "      <th>8</th>\n",
              "      <td>2517</td>\n",
              "      <td>RUTHERFORD</td>\n",
              "      <td>CA</td>\n",
              "      <td>94573</td>\n",
              "    </tr>\n",
              "    <tr>\n",
              "      <th>9</th>\n",
              "      <td>4391</td>\n",
              "      <td>OMAHA</td>\n",
              "      <td>NE</td>\n",
              "      <td>68107</td>\n",
              "    </tr>\n",
              "  </tbody>\n",
              "</table>\n",
              "</div>"
            ],
            "text/plain": [
              "   STORE_NUMBER          CITY STATE POSTAL_CODE\n",
              "0          2156     GRAPEVINE    TX       76051\n",
              "1          1419  HUNTERSVILLE    NC       28078\n",
              "2          2249           NaN   NaN       32792\n",
              "3          2513     LAS VEGAS    NV       89129\n",
              "4          1754       ARDMORE    OK       73401\n",
              "5           949           NaN   NaN       93033\n",
              "6           820           NaN   NaN       37203\n",
              "7          1161           NaN   NaN  78723-2429\n",
              "8          2517    RUTHERFORD    CA       94573\n",
              "9          4391         OMAHA    NE       68107"
            ]
          },
          "execution_count": 73,
          "metadata": {},
          "output_type": "execute_result"
        }
      ],
      "source": [
        "store_data.head(10)"
      ]
    },
    {
      "cell_type": "code",
      "execution_count": 74,
      "metadata": {
        "colab": {
          "base_uri": "https://localhost:8080/",
          "height": 363
        },
        "id": "If1kXJv4zDuI",
        "outputId": "3dc3b878-12bf-40ff-c2f4-3fd9e0910fcb"
      },
      "outputs": [
        {
          "name": "stdout",
          "output_type": "stream",
          "text": [
            "store_data shape: (38, 4)\n"
          ]
        }
      ],
      "source": [
        "print(f\"store_data shape: {store_data.shape}\")"
      ]
    },
    {
      "cell_type": "code",
      "execution_count": 75,
      "metadata": {},
      "outputs": [
        {
          "name": "stdout",
          "output_type": "stream",
          "text": [
            "<class 'pandas.core.frame.DataFrame'>\n",
            "RangeIndex: 38 entries, 0 to 37\n",
            "Data columns (total 4 columns):\n",
            " #   Column        Non-Null Count  Dtype \n",
            "---  ------        --------------  ----- \n",
            " 0   STORE_NUMBER  38 non-null     int64 \n",
            " 1   CITY          25 non-null     object\n",
            " 2   STATE         24 non-null     object\n",
            " 3   POSTAL_CODE   36 non-null     object\n",
            "dtypes: int64(1), object(3)\n",
            "memory usage: 1.3+ KB\n",
            "None\n"
          ]
        }
      ],
      "source": [
        "print(store_data.info())"
      ]
    },
    {
      "cell_type": "code",
      "execution_count": 76,
      "metadata": {},
      "outputs": [
        {
          "name": "stdout",
          "output_type": "stream",
          "text": [
            "STORE_NUMBER     0\n",
            "CITY            13\n",
            "STATE           14\n",
            "POSTAL_CODE      2\n",
            "dtype: int64\n"
          ]
        }
      ],
      "source": [
        "print(store_data.isnull().sum())"
      ]
    },
    {
      "cell_type": "code",
      "execution_count": 77,
      "metadata": {},
      "outputs": [
        {
          "name": "stdout",
          "output_type": "stream",
          "text": [
            "Missing values in store data :29\n"
          ]
        }
      ],
      "source": [
        "print(f\"Missing values in store data :{store_data.isnull().sum().sum()}\")"
      ]
    },
    {
      "cell_type": "code",
      "execution_count": 78,
      "metadata": {},
      "outputs": [
        {
          "name": "stdout",
          "output_type": "stream",
          "text": [
            "0\n"
          ]
        }
      ],
      "source": [
        "print(store_data.duplicated().sum())"
      ]
    },
    {
      "cell_type": "code",
      "execution_count": 79,
      "metadata": {},
      "outputs": [
        {
          "name": "stdout",
          "output_type": "stream",
          "text": [
            "STORE_NUMBER    38\n",
            "CITY            21\n",
            "STATE           10\n",
            "POSTAL_CODE     36\n",
            "dtype: int64\n"
          ]
        }
      ],
      "source": [
        "print(store_data.nunique())"
      ]
    },
    {
      "cell_type": "code",
      "execution_count": 136,
      "metadata": {},
      "outputs": [],
      "source": [
        "# print(store_data[\"CITY\"].values)\n",
        "# print(store_data[\"STATE\"].values)\n"
      ]
    },
    {
      "cell_type": "code",
      "execution_count": 139,
      "metadata": {},
      "outputs": [],
      "source": [
        "store_data_cleaned = store_data.copy()\n",
        "# idx_null = store_data[store_data[\"CITY\"].isnull()].index\n",
        "# store_data[\"CITY\"][idx_null]\n",
        "# idx_null = store_data[store_data[\"STATE\"].isnull()].index\n",
        "# store_data[\"STATE\"][idx_null]\n",
        "store_data_cleaned.fillna({\"CITY\": \"Unknown\", \"STATE\": \"Unknown\"}, inplace=True)\n",
        "store_data_cleaned.to_csv(\"Datasets/store_data_cleaned.csv\", index=False)\n",
        "del store_data_cleaned"
      ]
    },
    {
      "cell_type": "markdown",
      "metadata": {},
      "source": [
        "# TEST DATA QUESTION"
      ]
    },
    {
      "cell_type": "code",
      "execution_count": 80,
      "metadata": {
        "colab": {
          "base_uri": "https://localhost:8080/",
          "height": 363
        },
        "id": "rjBl4unnzFuP",
        "outputId": "91f22064-88c4-4544-eb52-6b0bb900087e"
      },
      "outputs": [
        {
          "data": {
            "text/html": [
              "<div>\n",
              "<style scoped>\n",
              "    .dataframe tbody tr th:only-of-type {\n",
              "        vertical-align: middle;\n",
              "    }\n",
              "\n",
              "    .dataframe tbody tr th {\n",
              "        vertical-align: top;\n",
              "    }\n",
              "\n",
              "    .dataframe thead th {\n",
              "        text-align: right;\n",
              "    }\n",
              "</style>\n",
              "<table border=\"1\" class=\"dataframe\">\n",
              "  <thead>\n",
              "    <tr style=\"text-align: right;\">\n",
              "      <th></th>\n",
              "      <th>CUSTOMER_ID</th>\n",
              "      <th>STORE_NUMBER</th>\n",
              "      <th>ORDER_ID</th>\n",
              "      <th>ORDER_CHANNEL_NAME</th>\n",
              "      <th>ORDER_SUBCHANNEL_NAME</th>\n",
              "      <th>ORDER_OCCASION_NAME</th>\n",
              "      <th>CUSTOMER_TYPE</th>\n",
              "      <th>item1</th>\n",
              "      <th>item2</th>\n",
              "      <th>item3</th>\n",
              "    </tr>\n",
              "  </thead>\n",
              "  <tbody>\n",
              "    <tr>\n",
              "      <th>0</th>\n",
              "      <td>997177535</td>\n",
              "      <td>4915</td>\n",
              "      <td>9351345556</td>\n",
              "      <td>Digital</td>\n",
              "      <td>WWT</td>\n",
              "      <td>ToGo</td>\n",
              "      <td>Guest</td>\n",
              "      <td>Chicken Sub Combo</td>\n",
              "      <td>Ranch Dip - Regular</td>\n",
              "      <td>10 pc Spicy Wings Combo</td>\n",
              "    </tr>\n",
              "    <tr>\n",
              "      <th>1</th>\n",
              "      <td>345593831</td>\n",
              "      <td>949</td>\n",
              "      <td>3595377080</td>\n",
              "      <td>Digital</td>\n",
              "      <td>WWT</td>\n",
              "      <td>ToGo</td>\n",
              "      <td>Registered</td>\n",
              "      <td>Regular Buffalo Fries</td>\n",
              "      <td>10 pc Spicy Wings</td>\n",
              "      <td>3 pc Crispy Strips Combo</td>\n",
              "    </tr>\n",
              "    <tr>\n",
              "      <th>2</th>\n",
              "      <td>160955031</td>\n",
              "      <td>2249</td>\n",
              "      <td>4071757785</td>\n",
              "      <td>Digital</td>\n",
              "      <td>WWT</td>\n",
              "      <td>ToGo</td>\n",
              "      <td>Guest</td>\n",
              "      <td>Large Buffalo Fries</td>\n",
              "      <td>10 pc Spicy Wings</td>\n",
              "      <td>Ranch Dip - Regular</td>\n",
              "    </tr>\n",
              "    <tr>\n",
              "      <th>3</th>\n",
              "      <td>890671991</td>\n",
              "      <td>4154</td>\n",
              "      <td>3931766769</td>\n",
              "      <td>Digital</td>\n",
              "      <td>WWT</td>\n",
              "      <td>ToGo</td>\n",
              "      <td>Guest</td>\n",
              "      <td>6 pc Grilled Wings Combo</td>\n",
              "      <td>20 pc Grilled Wings</td>\n",
              "      <td>Fried Corn - Large</td>\n",
              "    </tr>\n",
              "    <tr>\n",
              "      <th>4</th>\n",
              "      <td>73989021</td>\n",
              "      <td>4094</td>\n",
              "      <td>3739700809</td>\n",
              "      <td>Digital</td>\n",
              "      <td>WWT</td>\n",
              "      <td>ToGo</td>\n",
              "      <td>Registered</td>\n",
              "      <td>Regular Buffalo Fries</td>\n",
              "      <td>20 pc Grilled Wings</td>\n",
              "      <td>Ranch Dip - Large</td>\n",
              "    </tr>\n",
              "    <tr>\n",
              "      <th>5</th>\n",
              "      <td>965629024</td>\n",
              "      <td>2734</td>\n",
              "      <td>1160484742</td>\n",
              "      <td>Digital</td>\n",
              "      <td>WWT</td>\n",
              "      <td>ToGo</td>\n",
              "      <td>Guest</td>\n",
              "      <td>3 pc Crispy Strips Combo</td>\n",
              "      <td>Chicken Sub Combo</td>\n",
              "      <td>Chicken Sub</td>\n",
              "    </tr>\n",
              "    <tr>\n",
              "      <th>6</th>\n",
              "      <td>554043002</td>\n",
              "      <td>430</td>\n",
              "      <td>3507129215</td>\n",
              "      <td>Digital</td>\n",
              "      <td>WWT</td>\n",
              "      <td>ToGo</td>\n",
              "      <td>Registered</td>\n",
              "      <td>10 pc Spicy Wings</td>\n",
              "      <td>Ranch Dip - Regular</td>\n",
              "      <td>Veggie Sticks Spicy</td>\n",
              "    </tr>\n",
              "    <tr>\n",
              "      <th>7</th>\n",
              "      <td>908406400</td>\n",
              "      <td>2513</td>\n",
              "      <td>2494847505</td>\n",
              "      <td>Digital</td>\n",
              "      <td>WWT</td>\n",
              "      <td>ToGo</td>\n",
              "      <td>Registered</td>\n",
              "      <td>Ranch Dip - Regular</td>\n",
              "      <td>Add 5 Spicy Wings</td>\n",
              "      <td>8 pc Spicy Wings Combo</td>\n",
              "    </tr>\n",
              "    <tr>\n",
              "      <th>8</th>\n",
              "      <td>680349080</td>\n",
              "      <td>820</td>\n",
              "      <td>9679605865</td>\n",
              "      <td>Digital</td>\n",
              "      <td>WWT</td>\n",
              "      <td>ToGo</td>\n",
              "      <td>Guest</td>\n",
              "      <td>Fried Corn - Regular</td>\n",
              "      <td>Chicken Sub</td>\n",
              "      <td>Ranch Dip - Regular</td>\n",
              "    </tr>\n",
              "    <tr>\n",
              "      <th>9</th>\n",
              "      <td>123249698</td>\n",
              "      <td>949</td>\n",
              "      <td>8053157007</td>\n",
              "      <td>Digital</td>\n",
              "      <td>WWT</td>\n",
              "      <td>ToGo</td>\n",
              "      <td>Registered</td>\n",
              "      <td>20 pc Grilled Wings</td>\n",
              "      <td>Ranch Dip - Regular</td>\n",
              "      <td>Regular Buffalo Fries</td>\n",
              "    </tr>\n",
              "  </tbody>\n",
              "</table>\n",
              "</div>"
            ],
            "text/plain": [
              "   CUSTOMER_ID  STORE_NUMBER    ORDER_ID ORDER_CHANNEL_NAME  \\\n",
              "0    997177535          4915  9351345556            Digital   \n",
              "1    345593831           949  3595377080            Digital   \n",
              "2    160955031          2249  4071757785            Digital   \n",
              "3    890671991          4154  3931766769            Digital   \n",
              "4     73989021          4094  3739700809            Digital   \n",
              "5    965629024          2734  1160484742            Digital   \n",
              "6    554043002           430  3507129215            Digital   \n",
              "7    908406400          2513  2494847505            Digital   \n",
              "8    680349080           820  9679605865            Digital   \n",
              "9    123249698           949  8053157007            Digital   \n",
              "\n",
              "  ORDER_SUBCHANNEL_NAME ORDER_OCCASION_NAME CUSTOMER_TYPE  \\\n",
              "0                   WWT                ToGo         Guest   \n",
              "1                   WWT                ToGo    Registered   \n",
              "2                   WWT                ToGo         Guest   \n",
              "3                   WWT                ToGo         Guest   \n",
              "4                   WWT                ToGo    Registered   \n",
              "5                   WWT                ToGo         Guest   \n",
              "6                   WWT                ToGo    Registered   \n",
              "7                   WWT                ToGo    Registered   \n",
              "8                   WWT                ToGo         Guest   \n",
              "9                   WWT                ToGo    Registered   \n",
              "\n",
              "                      item1                item2                     item3  \n",
              "0         Chicken Sub Combo  Ranch Dip - Regular   10 pc Spicy Wings Combo  \n",
              "1     Regular Buffalo Fries    10 pc Spicy Wings  3 pc Crispy Strips Combo  \n",
              "2       Large Buffalo Fries    10 pc Spicy Wings       Ranch Dip - Regular  \n",
              "3  6 pc Grilled Wings Combo  20 pc Grilled Wings        Fried Corn - Large  \n",
              "4     Regular Buffalo Fries  20 pc Grilled Wings         Ranch Dip - Large  \n",
              "5  3 pc Crispy Strips Combo    Chicken Sub Combo               Chicken Sub  \n",
              "6         10 pc Spicy Wings  Ranch Dip - Regular       Veggie Sticks Spicy  \n",
              "7       Ranch Dip - Regular    Add 5 Spicy Wings    8 pc Spicy Wings Combo  \n",
              "8      Fried Corn - Regular          Chicken Sub       Ranch Dip - Regular  \n",
              "9       20 pc Grilled Wings  Ranch Dip - Regular     Regular Buffalo Fries  "
            ]
          },
          "execution_count": 80,
          "metadata": {},
          "output_type": "execute_result"
        }
      ],
      "source": [
        "test_data_question.head(10)"
      ]
    },
    {
      "cell_type": "code",
      "execution_count": 81,
      "metadata": {
        "colab": {
          "base_uri": "https://localhost:8080/"
        },
        "id": "zCKmq1srzTYo",
        "outputId": "15437be8-1ded-44e3-f111-f3292ec3d78f"
      },
      "outputs": [
        {
          "name": "stdout",
          "output_type": "stream",
          "text": [
            "test data question shape : (1000, 10)\n"
          ]
        }
      ],
      "source": [
        "print(f\"test data question shape : {test_data_question.shape}\")"
      ]
    },
    {
      "cell_type": "code",
      "execution_count": 82,
      "metadata": {
        "colab": {
          "base_uri": "https://localhost:8080/"
        },
        "id": "xr0TEOzYzlIX",
        "outputId": "7b2d143b-8233-4f77-f12e-3e13aa9ebaad"
      },
      "outputs": [
        {
          "name": "stdout",
          "output_type": "stream",
          "text": [
            "<class 'pandas.core.frame.DataFrame'>\n",
            "RangeIndex: 1000 entries, 0 to 999\n",
            "Data columns (total 10 columns):\n",
            " #   Column                 Non-Null Count  Dtype \n",
            "---  ------                 --------------  ----- \n",
            " 0   CUSTOMER_ID            1000 non-null   int64 \n",
            " 1   STORE_NUMBER           1000 non-null   int64 \n",
            " 2   ORDER_ID               1000 non-null   int64 \n",
            " 3   ORDER_CHANNEL_NAME     1000 non-null   object\n",
            " 4   ORDER_SUBCHANNEL_NAME  1000 non-null   object\n",
            " 5   ORDER_OCCASION_NAME    1000 non-null   object\n",
            " 6   CUSTOMER_TYPE          1000 non-null   object\n",
            " 7   item1                  1000 non-null   object\n",
            " 8   item2                  1000 non-null   object\n",
            " 9   item3                  1000 non-null   object\n",
            "dtypes: int64(3), object(7)\n",
            "memory usage: 78.3+ KB\n",
            "None\n"
          ]
        }
      ],
      "source": [
        "print(test_data_question.info())"
      ]
    },
    {
      "cell_type": "code",
      "execution_count": 83,
      "metadata": {
        "colab": {
          "base_uri": "https://localhost:8080/"
        },
        "id": "4kD07tzqzqPX",
        "outputId": "9aa229ca-be53-48be-b3a9-a7dd1bf352af"
      },
      "outputs": [
        {
          "name": "stdout",
          "output_type": "stream",
          "text": [
            "CUSTOMER_ID              0\n",
            "STORE_NUMBER             0\n",
            "ORDER_ID                 0\n",
            "ORDER_CHANNEL_NAME       0\n",
            "ORDER_SUBCHANNEL_NAME    0\n",
            "ORDER_OCCASION_NAME      0\n",
            "CUSTOMER_TYPE            0\n",
            "item1                    0\n",
            "item2                    0\n",
            "item3                    0\n",
            "dtype: int64\n"
          ]
        }
      ],
      "source": [
        "print(test_data_question.isnull().sum())"
      ]
    },
    {
      "cell_type": "code",
      "execution_count": 84,
      "metadata": {
        "colab": {
          "base_uri": "https://localhost:8080/"
        },
        "id": "--nM0cEv1M7B",
        "outputId": "c4b6703a-325b-4977-fe46-8cc2f19a5c84"
      },
      "outputs": [
        {
          "name": "stdout",
          "output_type": "stream",
          "text": [
            "0\n"
          ]
        }
      ],
      "source": [
        "print(test_data_question.isnull().sum().sum())"
      ]
    },
    {
      "cell_type": "code",
      "execution_count": 85,
      "metadata": {
        "colab": {
          "base_uri": "https://localhost:8080/"
        },
        "id": "Sv4nWbgm0r8E",
        "outputId": "d4d0a084-7c77-4d77-fe8d-da30c2604d6a"
      },
      "outputs": [
        {
          "name": "stdout",
          "output_type": "stream",
          "text": [
            "0\n"
          ]
        }
      ],
      "source": [
        "print(test_data_question.duplicated().sum())"
      ]
    },
    {
      "cell_type": "code",
      "execution_count": 86,
      "metadata": {},
      "outputs": [
        {
          "name": "stdout",
          "output_type": "stream",
          "text": [
            "CUSTOMER_ID              1000\n",
            "STORE_NUMBER               38\n",
            "ORDER_ID                 1000\n",
            "ORDER_CHANNEL_NAME          1\n",
            "ORDER_SUBCHANNEL_NAME       1\n",
            "ORDER_OCCASION_NAME         2\n",
            "CUSTOMER_TYPE               3\n",
            "item1                      75\n",
            "item2                      79\n",
            "item3                      79\n",
            "dtype: int64\n"
          ]
        }
      ],
      "source": [
        "print(test_data_question.nunique())"
      ]
    },
    {
      "cell_type": "code",
      "execution_count": null,
      "metadata": {},
      "outputs": [],
      "source": []
    }
  ],
  "metadata": {
    "colab": {
      "provenance": []
    },
    "kernelspec": {
      "display_name": "pytorch",
      "language": "python",
      "name": "python3"
    },
    "language_info": {
      "codemirror_mode": {
        "name": "ipython",
        "version": 3
      },
      "file_extension": ".py",
      "mimetype": "text/x-python",
      "name": "python",
      "nbconvert_exporter": "python",
      "pygments_lexer": "ipython3",
      "version": "3.11.8"
    }
  },
  "nbformat": 4,
  "nbformat_minor": 0
}
